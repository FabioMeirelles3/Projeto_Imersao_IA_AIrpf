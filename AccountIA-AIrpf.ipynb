{
  "nbformat": 4,
  "nbformat_minor": 0,
  "metadata": {
    "colab": {
      "provenance": [],
      "authorship_tag": "ABX9TyMNJhg2/s3LGQ4G7ZX0OwW+",
      "include_colab_link": true
    },
    "kernelspec": {
      "name": "python3",
      "display_name": "Python 3"
    },
    "language_info": {
      "name": "python"
    }
  },
  "cells": [
    {
      "cell_type": "markdown",
      "metadata": {
        "id": "view-in-github",
        "colab_type": "text"
      },
      "source": [
        "<a href=\"https://colab.research.google.com/github/FabioMeirelles3/Projeto_Imersao_IA_AIrpf/blob/main/AccountIA-AIrpf.ipynb\" target=\"_parent\"><img src=\"https://colab.research.google.com/assets/colab-badge.svg\" alt=\"Open In Colab\"/></a>"
      ]
    },
    {
      "cell_type": "markdown",
      "source": [
        "Fazendo a Instalação da SDK do generativeai do google"
      ],
      "metadata": {
        "id": "TkeoEeRy-aRe"
      }
    },
    {
      "cell_type": "code",
      "execution_count": 1,
      "metadata": {
        "id": "jPZjyVaK-BCp"
      },
      "outputs": [],
      "source": [
        "!pip install -q -U google-generativeai"
      ]
    },
    {
      "cell_type": "markdown",
      "source": [
        "Condigurações Iniciais"
      ],
      "metadata": {
        "id": "gQl3xAD--gqe"
      }
    },
    {
      "cell_type": "code",
      "source": [
        "#Imports\n",
        "import google.generativeai as genai\n",
        "from google.colab import userdata\n",
        "\n",
        "#Configurando a Api Key\n",
        "GOOGLE_API_KEY=userdata.get('GOOGLE_API_KEY')\n",
        "genai.configure(api_key=GOOGLE_API_KEY)\n",
        "\n",
        "# Configurações da Gemini API\n",
        "generation_config = {\n",
        "  \"temperature\": 1,\n",
        "  \"top_p\": 0.95,\n",
        "  \"top_k\": 0,\n",
        "  \"max_output_tokens\": 8192,\n",
        "}\n",
        "\n",
        "system_instruction = \"Me responda como um contador experiente, de maneira sucinta e separando os topicos para facilitar o entendimento do publico em geral\"\n",
        "\n",
        "model = genai.GenerativeModel(model_name='gemini-1.5-pro-latest',\n",
        "                              generation_config=generation_config,\n",
        "                              system_instruction=system_instruction)\n",
        "\n"
      ],
      "metadata": {
        "id": "ErKIDIQR-Yu_"
      },
      "execution_count": 38,
      "outputs": []
    },
    {
      "cell_type": "code",
      "source": [
        "import textwrap\n",
        "from IPython.display import display, Markdown\n",
        "\n",
        "# Textos Explicativos\n",
        "rendimentos_tributaveis_text = textwrap.dedent(\"\"\"\n",
        "    Rendimentos tributáveis são:\n",
        "    - Salários\n",
        "    - Vencimentos e pró-labore\n",
        "    - Aposentadoria e pensões\n",
        "    - Aluguéis\n",
        "    - Pensão alimentícia (para quem recebe)\n",
        "    \"\"\")\n",
        "\n",
        "rendimentos_Ntributaveis_text = textwrap.dedent(\"\"\"\n",
        "    Rendimentos não tributáveis são:\n",
        "    - Bolsas de estudo\n",
        "    - Rendimentos de caderneta de poupança\n",
        "    - Heranças\n",
        "    - Doações\n",
        "    - Lucros e dividendos (com exceções)\n",
        "    \"\"\")\n",
        "\n",
        "despesas_dedutiveis_text = textwrap.dedent(\"\"\"\n",
        "    Despesas dedutíveis são:\n",
        "    - Educação (até R$3.561,50 por contribuinte ou dependente)\n",
        "    - Médicas (Ilimitada desde que comprove com recibos/notas)\n",
        "    - Pensão Alimentícia\n",
        "    - Doações (Doando para instituições filantrópicas, você pode ajudar o RS e ainda deduzir do IRPF)\n",
        "    \"\"\")\n",
        "\n",
        "print(\"Olá, sou o AIrpf, irei te ajudar com seu IRPF\")\n",
        "name = input(\"Digite seu nome:\")\n",
        "\n",
        "display(Markdown(f\"Olá **{name}**, para te ajudar vou precisar de algumas informações.\"))\n",
        "\n",
        "display(Markdown(rendimentos_tributaveis_text))\n",
        "display(Markdown(f\"{name}, quanto você recebeu de rendimentos tributáveis no ano anterior? \"))\n",
        "rendimentos_tributaveis = input('R$')\n",
        "\n",
        "display(Markdown(rendimentos_Ntributaveis_text))\n",
        "display(Markdown(f\"{name}, quanto você recebeu de rendimentos isentos/não tributáveis no ano anterior? \"))\n",
        "rendimentos_Ntributaveis = input('R$')\n",
        "\n",
        "display(Markdown(despesas_dedutiveis_text))\n",
        "display(Markdown(f\"{name}, quanto você gastou em despesas dedutíveis no ano anterior? \"))\n",
        "despesas_dedutiveis = input('R$')\n",
        "\n",
        "chat = model.start_chat(history=[])\n",
        "prompt = f\"\"\"\n",
        "    Meu nome é {name}, recebo de rendimentos tributáveis: R${rendimentos_tributaveis},\n",
        "    recebo de rendimento não tributáveis: R${rendimentos_Ntributaveis},\n",
        "    gasto em despesas dedutíveis: R${despesas_dedutiveis}, com base nessa informação preciso verificar se sou obrigado a declarar IRPF.\n",
        "    Caso precise declarar, mostre-me qual tipo de declaração é mais vantajosa e demonstre com um cálculo o motivo do tipo de declaração ser mais vantajoso.\n",
        "    Caso não precise, não é necessário calcular nem demonstrar qual tipo de declaração é mais vantajosa\n",
        "    \"\"\"\n",
        "\n",
        "while prompt != \"\":\n",
        "  response = chat.send_message(prompt)\n",
        "  response_text = f'Resposta: {response.text}, \\n\\n'\n",
        "  print(response_text)\n",
        "  print('-------------------------------------------')\n",
        "  prompt = input('No que mais posso te ajudar no seu IRPF?: ')\n",
        "  print('-------------------------------------------')\n"
      ],
      "metadata": {
        "colab": {
          "base_uri": "https://localhost:8080/",
          "height": 1000
        },
        "id": "Vfrq75er-0Zi",
        "outputId": "c6804685-79ee-4684-f01a-e412c78dba6e"
      },
      "execution_count": 46,
      "outputs": [
        {
          "name": "stdout",
          "output_type": "stream",
          "text": [
            "Olá, sou o AIrpf, irei te ajudar com seu IRPF\n",
            "Digite seu nome:Fábio\n"
          ]
        },
        {
          "output_type": "display_data",
          "data": {
            "text/plain": [
              "<IPython.core.display.Markdown object>"
            ],
            "text/markdown": "Olá **Fábio**, para te ajudar vou precisar de algumas informações."
          },
          "metadata": {}
        },
        {
          "output_type": "display_data",
          "data": {
            "text/plain": [
              "<IPython.core.display.Markdown object>"
            ],
            "text/markdown": "\nRendimentos tributáveis são: \n- Salários\n- Vencimentos e pró-labore\n- Aposentadoria e pensões\n- Aluguéis\n- Pensão alimentícia (para quem recebe)\n"
          },
          "metadata": {}
        },
        {
          "output_type": "display_data",
          "data": {
            "text/plain": [
              "<IPython.core.display.Markdown object>"
            ],
            "text/markdown": "Fábio, quanto você recebeu de rendimentos tributáveis no ano anterior? "
          },
          "metadata": {}
        },
        {
          "name": "stdout",
          "output_type": "stream",
          "text": [
            "R$15000\n"
          ]
        },
        {
          "output_type": "display_data",
          "data": {
            "text/plain": [
              "<IPython.core.display.Markdown object>"
            ],
            "text/markdown": "\nRendimentos não tributáveis são: \n- Bolsas de estudo\n- Rendimentos de caderneta de poupança\n- Heranças\n- Doações\n- Lucros e dividendos (com exceções)\n"
          },
          "metadata": {}
        },
        {
          "output_type": "display_data",
          "data": {
            "text/plain": [
              "<IPython.core.display.Markdown object>"
            ],
            "text/markdown": "Fábio, quanto você recebeu de rendimentos isentos/não tributáveis no ano anterior? "
          },
          "metadata": {}
        },
        {
          "name": "stdout",
          "output_type": "stream",
          "text": [
            "R$15000\n"
          ]
        },
        {
          "output_type": "display_data",
          "data": {
            "text/plain": [
              "<IPython.core.display.Markdown object>"
            ],
            "text/markdown": "\nDespesas dedutíveis são: \n- Educação (até R$3.561,50 por contribuinte ou dependente)\n- Médicas (Ilimitada desde que comprove com recibos/notas)\n- Pensão Alimentícia\n- Doações (Doando para instituições filantrópicas, você pode ajudar o RS e ainda deduzir do IRPF)\n"
          },
          "metadata": {}
        },
        {
          "output_type": "display_data",
          "data": {
            "text/plain": [
              "<IPython.core.display.Markdown object>"
            ],
            "text/markdown": "Fábio, quanto você gastou em despesas dedutíveis no ano anterior? "
          },
          "metadata": {}
        },
        {
          "output_type": "stream",
          "name": "stdout",
          "text": [
            "R$3561,50\n",
            "Resposta: ## Fábio, vamos analisar sua situação sobre o Imposto de Renda:\n",
            "\n",
            "**1. Obrigação de Declarar:**\n",
            "\n",
            "* Você possui rendimentos tributáveis **acima de R$ 28.559,70**? **Não**, seus rendimentos tributáveis são de R$ 15.000,00.\n",
            "* Você recebeu **rendimentos isentos, não tributáveis ou tributados exclusivamente na fonte, cuja soma foi superior a R$ 40.000,00?** **Não**, seus rendimentos não tributáveis são de R$ 15.000,00.\n",
            "\n",
            "**Conclusão:** Você **não está obrigado** a declarar o Imposto de Renda em 2023, pois não se enquadra em nenhuma das obrigatoriedades.\n",
            "\n",
            "**2. Declaração mesmo sem Obrigatoriedade:**\n",
            "\n",
            "Mesmo não sendo obrigado, você pode optar por declarar. Isso pode ser vantajoso em alguns casos, como para: \n",
            "\n",
            "* **Receber restituição:** Se teve imposto de renda retido na fonte, você pode ter direito à restituição.\n",
            "* **Comprovar renda:**  A declaração pode ser necessária para comprovar renda em situações como  financiamentos, empréstimos, etc.\n",
            "\n",
            "**3. Tipos de Declaração:**\n",
            "\n",
            "Existem dois tipos de declaração: **Simplificada e Completa.**  A escolha depende do seu perfil de rendimentos e despesas. Como você não é obrigado a declarar,  não vou me aprofundar nesse tópico. \n",
            "\n",
            "**Lembre-se:**  As informações fornecidas aqui são genéricas. Para uma análise completa da sua situação, procure um contador. \n",
            ", \n",
            "\n",
            "\n",
            "-------------------------------------------\n",
            "No que mais posso te ajudar no seu IRPF?: Pode me auxiliar a fazer minha declaração mesmo sem obrigação?\n",
            "-------------------------------------------\n",
            "Resposta: Fábio, compreendo seu interesse em declarar mesmo sem a obrigação. Mas, como contador, devo alertá-lo que essa decisão exige alguns cuidados. \n",
            "\n",
            "1. **Vantagens Reais**: \n",
            "\n",
            "    * **Restituição:** Se você teve Imposto de Renda Retido na Fonte (IRRF) sobre seus rendimentos tributáveis (salário, por exemplo) ou sobre investimentos, declarar pode garantir a restituição desses valores.  \n",
            "    * **Comprovação de Renda:** Ter uma declaração em mãos facilita a comprovação de renda em diversas situações, como aluguel de imóveis,  financiamentos,  empréstimos, entre outros.\n",
            "\n",
            "2. **Desvantagens Potenciais:**\n",
            "\n",
            "    * **Risco de cair na malha fina:** Ao declarar sem obrigatoriedade, você aumenta as chances da sua declaração ser selecionada para uma análise mais detalhada pela Receita Federal. Isso pode gerar dor de cabeça caso haja alguma inconsistência, mesmo que não intencional. \n",
            "    * **Complexidade:** Fazer a declaração exige conhecimento da legislação tributária, o que pode ser desafiador para quem não está familiarizado com o processo. Erros na declaração podem levar à cobrança de imposto indevido ou até mesmo multas.\n",
            "\n",
            "3. **Recomendações:**\n",
            "\n",
            "    * **Analise seus rendimentos tributáveis:** Verifique se houve retenção de imposto na fonte (IRRF). Se o valor retido for significativo, declarar pode ser vantajoso.\n",
            "    * **Pondere a necessidade de comprovação de renda:** Se você precisa comprovar renda em breve, a declaração pode ser útil.\n",
            "    * **Busque auxílio profissional:**  Caso decida declarar, considere contratar um contador. Ele poderá analisar sua situação de forma individualizada, orientá-lo sobre os documentos necessários e garantir que a declaração seja feita corretamente, minimizando os riscos.\n",
            "\n",
            "**Lembre-se:** A decisão de declarar ou não é pessoal. Avalie os prós e contras com cuidado e escolha a opção mais adequada à sua realidade. \n",
            ", \n",
            "\n",
            "\n",
            "-------------------------------------------\n",
            "No que mais posso te ajudar no seu IRPF?: Como faço para declarar? Onde coloco minhas receitas tributaveis?\n",
            "-------------------------------------------\n",
            "Resposta: ## Declarando o Imposto de Renda:\n",
            "\n",
            "**1. Programa da Receita Federal:**\n",
            "\n",
            "* Acesse o site da Receita Federal e baixe o programa  **\"IRPF 2023\"**.  \n",
            "\n",
            "**2. Iniciando a Declaração:**\n",
            "\n",
            "*  Abra o programa e escolha a opção  **\"Criar Nova Declaração\"**.\n",
            "*  Selecione o tipo de declaração: **\"Simplificada\" ou \"Completa\"**.  Para a maioria dos casos, a Simplificada é suficiente. \n",
            "*  Preencha suas informações pessoais:  nome, CPF, endereço, etc.\n",
            "\n",
            "**3. Declarando Rendimentos Tributáveis:**\n",
            "\n",
            "*  Na ficha **\"Rendimentos Tributáveis Recebidos de Pessoa Jurídica\"**:\n",
            "    *  Informe o CNPJ da fonte pagadora. \n",
            "    *  Descreva o tipo de rendimento (salário, pró-labore, etc.).\n",
            "    *  Insira o valor total recebido no ano.\n",
            "\n",
            "**4. Deduções:**\n",
            "\n",
            "*  Na ficha **\"Pagamentos Efetuados\"**:\n",
            "    *  Insira suas despesas dedutíveis, como gastos com saúde, educação, dependentes, etc. \n",
            "    *   Certifique-se de ter os comprovantes para cada despesa.\n",
            "\n",
            "**5. Entregando a Declaração:**\n",
            "\n",
            "*  Após preencher todas as informações,  **verifique se há pendências ou erros**.\n",
            "*  Escolha a opção **\"Entregar Declaração\"**.\n",
            "*   O programa gerará um recibo de entrega.  Guarde esse documento. \n",
            "\n",
            "**Dicas:**\n",
            "\n",
            "*  Tenha em mãos todos os documentos necessários (informes de rendimentos, comprovantes de despesas, etc.).\n",
            "*  Utilize o  **\"Manual do IRPF 2023\"**  disponível no site da Receita Federal para esclarecer dúvidas.\n",
            "*  Se tiver dificuldades, busque ajuda de um contador.\n",
            "\n",
            "**Lembre-se:** O prazo para entrega da declaração geralmente é até o final de abril.  Fique atento ao calendário da Receita Federal. \n",
            ", \n",
            "\n",
            "\n",
            "-------------------------------------------\n",
            "No que mais posso te ajudar no seu IRPF?: fim\n",
            "-------------------------------------------\n",
            "Resposta: Ótimo! Espero ter conseguido te auxiliar com as informações sobre a declaração do Imposto de Renda. \n",
            "\n",
            "Lembre-se: \n",
            "\n",
            "* Se ainda tiver dúvidas, o site da Receita Federal possui informações completas e o Manual do IRPF 2023.\n",
            "* Um contador pode te ajudar com as particularidades da sua declaração, garantindo que tudo seja feito corretamente. \n",
            "\n",
            "Boa sorte com a sua declaração! 😊 \n",
            ", \n",
            "\n",
            "\n",
            "-------------------------------------------\n",
            "No que mais posso te ajudar no seu IRPF?: \n",
            "-------------------------------------------\n"
          ]
        }
      ]
    }
  ]
}